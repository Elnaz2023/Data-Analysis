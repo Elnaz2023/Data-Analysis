{
  "nbformat": 4,
  "nbformat_minor": 0,
  "metadata": {
    "colab": {
      "provenance": [],
      "authorship_tag": "ABX9TyPxTFlv1FSvewa2cHxLGJ17",
      "include_colab_link": true
    },
    "kernelspec": {
      "name": "python3",
      "display_name": "Python 3"
    },
    "language_info": {
      "name": "python"
    }
  },
  "cells": [
    {
      "cell_type": "markdown",
      "metadata": {
        "id": "view-in-github",
        "colab_type": "text"
      },
      "source": [
        "<a href=\"https://colab.research.google.com/github/Elnaz2023/Data-Analysis/blob/main/Chest_X_ray.ipynb\" target=\"_parent\"><img src=\"https://colab.research.google.com/assets/colab-badge.svg\" alt=\"Open In Colab\"/></a>"
      ]
    },
    {
      "cell_type": "code",
      "execution_count": 2,
      "metadata": {
        "colab": {
          "base_uri": "https://localhost:8080/"
        },
        "id": "XfsEZ50ao0sX",
        "outputId": "e3de7870-f7ad-46f7-cbe7-6f2860a79377"
      },
      "outputs": [
        {
          "output_type": "stream",
          "name": "stdout",
          "text": [
            "/bin/bash: line 1: nvidia-smi: command not found\n"
          ]
        }
      ],
      "source": [
        "!nvidia-smi"
      ]
    },
    {
      "cell_type": "code",
      "source": [
        "#data hosted atbelow link (downloading it)"
      ],
      "metadata": {
        "id": "w5uv3zuoxRxQ"
      },
      "execution_count": null,
      "outputs": []
    },
    {
      "cell_type": "code",
      "source": [
        "!wget https://dropbox.com/s/tlxserrdhe240lu//archive.zip"
      ],
      "metadata": {
        "colab": {
          "base_uri": "https://localhost:8080/"
        },
        "id": "-RUnXuLbpaaO",
        "outputId": "1650c274-8c2c-4c77-83a0-2b4eebbabbe3"
      },
      "execution_count": 3,
      "outputs": [
        {
          "output_type": "stream",
          "name": "stdout",
          "text": [
            "--2023-11-14 16:58:00--  https://dropbox.com/s/tlxserrdhe240lu//archive.zip\n",
            "Resolving dropbox.com (dropbox.com)... 162.125.248.18, 2620:100:6040:18::a27d:f812\n",
            "Connecting to dropbox.com (dropbox.com)|162.125.248.18|:443... connected.\n",
            "HTTP request sent, awaiting response... 301 Moved Permanently\n",
            "Location: https://www.dropbox.com/s/tlxserrdhe240lu/archive.zip [following]\n",
            "--2023-11-14 16:58:00--  https://www.dropbox.com/s/tlxserrdhe240lu/archive.zip\n",
            "Resolving www.dropbox.com (www.dropbox.com)... 162.125.65.18, 2620:100:601d:18::a27d:512\n",
            "Connecting to www.dropbox.com (www.dropbox.com)|162.125.65.18|:443... connected.\n",
            "HTTP request sent, awaiting response... 302 Found\n",
            "Location: /s/raw/tlxserrdhe240lu/archive.zip [following]\n",
            "--2023-11-14 16:58:01--  https://www.dropbox.com/s/raw/tlxserrdhe240lu/archive.zip\n",
            "Reusing existing connection to www.dropbox.com:443.\n",
            "HTTP request sent, awaiting response... 302 Found\n",
            "Location: https://uc6f8b99c9615b665a07fadaeba4.dl.dropboxusercontent.com/cd/0/inline/CHh1u0g7LR1e5ZKYYH2AVHEVYdSumLNp95BN_HXjbgihS9WY0u0OJKVk76U5WT8AQmV0DiA2SbFUzm7sEdr50Z9bzbu05zYFgrlV-sQpTJRhJoy-M_etG2u_26c4DYd5F2FfYSFpXbFrvXh-f_y2GdbL/file# [following]\n",
            "--2023-11-14 16:58:01--  https://uc6f8b99c9615b665a07fadaeba4.dl.dropboxusercontent.com/cd/0/inline/CHh1u0g7LR1e5ZKYYH2AVHEVYdSumLNp95BN_HXjbgihS9WY0u0OJKVk76U5WT8AQmV0DiA2SbFUzm7sEdr50Z9bzbu05zYFgrlV-sQpTJRhJoy-M_etG2u_26c4DYd5F2FfYSFpXbFrvXh-f_y2GdbL/file\n",
            "Resolving uc6f8b99c9615b665a07fadaeba4.dl.dropboxusercontent.com (uc6f8b99c9615b665a07fadaeba4.dl.dropboxusercontent.com)... 162.125.65.15, 2620:100:6021:15::a27d:410f\n",
            "Connecting to uc6f8b99c9615b665a07fadaeba4.dl.dropboxusercontent.com (uc6f8b99c9615b665a07fadaeba4.dl.dropboxusercontent.com)|162.125.65.15|:443... connected.\n",
            "HTTP request sent, awaiting response... 302 Found\n",
            "Location: /cd/0/inline2/CHjX915m7GeOcGdeIp2v6JG_i28-q_XQwVnraMeXxHQyj-BbECsjutWPY_HRYXaUqKiAYkPmEh4iFRznvQYOMzzD4AdLS3kuQTrx0w13QNXNe_7mXL3d2zlSqdMNLUJbeLjIwqvDlpvsHuNrwGVmCxroFlQ-ihfNV-7UoCqpCvRluysEHVYScwoq8_ksi0lgfhotZM6WiH409jphEQdUa2PCXhtJvnkEuU3VNavmXF2uH8uTmqXWs3c9Wz9KQ_afS5I6T8rY6CxQk8DvOnndsj_e6F8OSsvMO5lS_UHh5JM1KezM_H2WrWvqd20AfXH-pz-0oSqjzIgRaOwAAqklopz9v3B3Q6tIWYV-sl9zgTutc4UBGv2FHTmmk8xp-zRD-OU/file [following]\n",
            "--2023-11-14 16:58:02--  https://uc6f8b99c9615b665a07fadaeba4.dl.dropboxusercontent.com/cd/0/inline2/CHjX915m7GeOcGdeIp2v6JG_i28-q_XQwVnraMeXxHQyj-BbECsjutWPY_HRYXaUqKiAYkPmEh4iFRznvQYOMzzD4AdLS3kuQTrx0w13QNXNe_7mXL3d2zlSqdMNLUJbeLjIwqvDlpvsHuNrwGVmCxroFlQ-ihfNV-7UoCqpCvRluysEHVYScwoq8_ksi0lgfhotZM6WiH409jphEQdUa2PCXhtJvnkEuU3VNavmXF2uH8uTmqXWs3c9Wz9KQ_afS5I6T8rY6CxQk8DvOnndsj_e6F8OSsvMO5lS_UHh5JM1KezM_H2WrWvqd20AfXH-pz-0oSqjzIgRaOwAAqklopz9v3B3Q6tIWYV-sl9zgTutc4UBGv2FHTmmk8xp-zRD-OU/file\n",
            "Reusing existing connection to uc6f8b99c9615b665a07fadaeba4.dl.dropboxusercontent.com:443.\n",
            "HTTP request sent, awaiting response... 200 OK\n",
            "Length: 1237072214 (1.2G) [application/zip]\n",
            "Saving to: ‘archive.zip’\n",
            "\n",
            "archive.zip         100%[===================>]   1.15G  20.3MB/s    in 57s     \n",
            "\n",
            "2023-11-14 16:58:59 (20.8 MB/s) - ‘archive.zip’ saved [1237072214/1237072214]\n",
            "\n"
          ]
        }
      ]
    },
    {
      "cell_type": "code",
      "source": [
        "#unzipping the data"
      ],
      "metadata": {
        "id": "3Zn78enLxLIQ"
      },
      "execution_count": 4,
      "outputs": []
    },
    {
      "cell_type": "code",
      "source": [
        "!unzip -q\"archive.zip\""
      ],
      "metadata": {
        "colab": {
          "base_uri": "https://localhost:8080/"
        },
        "id": "DXqFEvtAxioz",
        "outputId": "5663a79e-349f-40c0-d006-144ca9274c5b"
      },
      "execution_count": 5,
      "outputs": [
        {
          "output_type": "stream",
          "name": "stdout",
          "text": [
            "UnZip 6.00 of 20 April 2009, by Debian. Original by Info-ZIP.\n",
            "\n",
            "Usage: unzip [-Z] [-opts[modifiers]] file[.zip] [list] [-x xlist] [-d exdir]\n",
            "  Default action is to extract files in list, except those in xlist, to exdir;\n",
            "  file[.zip] may be a wildcard.  -Z => ZipInfo mode (\"unzip -Z\" for usage).\n",
            "\n",
            "  -p  extract files to pipe, no messages     -l  list files (short format)\n",
            "  -f  freshen existing files, create none    -t  test compressed archive data\n",
            "  -u  update files, create if necessary      -z  display archive comment only\n",
            "  -v  list verbosely/show version info       -T  timestamp archive to latest\n",
            "  -x  exclude files that follow (in xlist)   -d  extract files into exdir\n",
            "modifiers:\n",
            "  -n  never overwrite existing files         -q  quiet mode (-qq => quieter)\n",
            "  -o  overwrite files WITHOUT prompting      -a  auto-convert any text files\n",
            "  -j  junk paths (do not make directories)   -aa treat ALL files as text\n",
            "  -U  use escapes for all non-ASCII Unicode  -UU ignore any Unicode fields\n",
            "  -C  match filenames case-insensitively     -L  make (some) names lowercase\n",
            "  -X  restore UID/GID info                   -V  retain VMS version numbers\n",
            "  -K  keep setuid/setgid/tacky permissions   -M  pipe through \"more\" pager\n",
            "  -O CHARSET  specify a character encoding for DOS, Windows and OS/2 archives\n",
            "  -I CHARSET  specify a character encoding for UNIX and other archives\n",
            "\n",
            "See \"unzip -hh\" or unzip.txt for more help.  Examples:\n",
            "  unzip data1 -x joe   => extract all files except joe from zipfile data1.zip\n",
            "  unzip -p foo | more  => send contents of foo.zip via pipe into program more\n",
            "  unzip -fo foo ReadMe => quietly replace existing ReadMe if archive file newer\n"
          ]
        }
      ]
    },
    {
      "cell_type": "code",
      "source": [],
      "metadata": {
        "id": "8fm1bimFxuF2"
      },
      "execution_count": null,
      "outputs": []
    }
  ]
}